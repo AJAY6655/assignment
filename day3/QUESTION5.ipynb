{
 "cells": [
  {
   "cell_type": "code",
   "execution_count": 1,
   "metadata": {},
   "outputs": [],
   "source": [
    "import numpy as np\n"
   ]
  },
  {
   "cell_type": "code",
   "execution_count": 5,
   "metadata": {},
   "outputs": [
    {
     "name": "stdout",
     "output_type": "stream",
     "text": [
      "1st Input array : \n",
      " [[1 2 3]\n",
      " [4 5 6]]\n",
      "2nd Input array : \n",
      " [[8 5 9]\n",
      " [2 5 8]]\n"
     ]
    }
   ],
   "source": [
    "arr1 = np.array([[1, 2,3],[4,5,6]])\n",
    "print (\"1st Input array : \\n\", arr1)    \n",
    "arr2 = np.array([[ 8, 5, 9] ,[2,5,8]]) \n",
    "print (\"2nd Input array : \\n\", arr2)"
   ]
  },
  {
   "cell_type": "code",
   "execution_count": 7,
   "metadata": {},
   "outputs": [
    {
     "name": "stdout",
     "output_type": "stream",
     "text": [
      "Output horizontally stacked array:\n",
      "  [[1 2 3 8 5 9]\n",
      " [4 5 6 2 5 8]]\n"
     ]
    }
   ],
   "source": [
    "arr = np.hstack((arr1, arr2)) \n",
    "print (\"Output horizontally stacked array:\\n \", arr) "
   ]
  },
  {
   "cell_type": "code",
   "execution_count": 10,
   "metadata": {},
   "outputs": [
    {
     "name": "stdout",
     "output_type": "stream",
     "text": [
      "Output stacked array :\n",
      "  [[1 2 3]\n",
      " [4 5 6]\n",
      " [8 5 9]\n",
      " [2 5 8]]\n"
     ]
    }
   ],
   "source": [
    "arr3= np.vstack((arr1, arr2)) \n",
    "print (\"Output stacked array :\\n \", arr3) "
   ]
  },
  {
   "cell_type": "code",
   "execution_count": null,
   "metadata": {},
   "outputs": [],
   "source": []
  }
 ],
 "metadata": {
  "kernelspec": {
   "display_name": "Python 3",
   "language": "python",
   "name": "python3"
  },
  "language_info": {
   "codemirror_mode": {
    "name": "ipython",
    "version": 3
   },
   "file_extension": ".py",
   "mimetype": "text/x-python",
   "name": "python",
   "nbconvert_exporter": "python",
   "pygments_lexer": "ipython3",
   "version": "3.8.3"
  }
 },
 "nbformat": 4,
 "nbformat_minor": 4
}
