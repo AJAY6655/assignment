{
 "cells": [
  {
   "cell_type": "code",
   "execution_count": 28,
   "metadata": {},
   "outputs": [],
   "source": [
    "import numpy as np"
   ]
  },
  {
   "cell_type": "code",
   "execution_count": 29,
   "metadata": {},
   "outputs": [
    {
     "name": "stdout",
     "output_type": "stream",
     "text": [
      "enter a number:45\n",
      "enter a number:67\n",
      "enter a number:89\n",
      "enter a number:1\n",
      "enter a number:47\n",
      "enter a number:3\n",
      "enter a number:56\n",
      "enter a number:78\n",
      "enter a number:98\n",
      "enter a number:77\n"
     ]
    }
   ],
   "source": [
    "l=[]\n",
    "l1=[]\n",
    "i=1\n",
    "while i<=10:\n",
    "        if i<6:\n",
    "            j = int(input(\"enter a number:\"))\n",
    "            l.append(j)\n",
    "        else:     \n",
    "            r =int(input(\"enter a number:\"))\n",
    "            l1.append(r)\n",
    "        i = i+1"
   ]
  },
  {
   "cell_type": "code",
   "execution_count": 30,
   "metadata": {},
   "outputs": [
    {
     "name": "stdout",
     "output_type": "stream",
     "text": [
      "[[45 67 89  1 47]\n",
      " [ 3 56 78 98 77]]\n"
     ]
    }
   ],
   "source": [
    "arr=np.array([l])\n",
    "arr1=np.array([l1])\n",
    "new=np.concatenate((arr, arr1));\n",
    "print(new)\n"
   ]
  },
  {
   "cell_type": "code",
   "execution_count": 31,
   "metadata": {},
   "outputs": [
    {
     "name": "stdout",
     "output_type": "stream",
     "text": [
      "[[ 1 45 47 67 89]\n",
      " [ 3 56 77 78 98]]\n"
     ]
    }
   ],
   "source": [
    "new.sort()\n",
    "print(new)"
   ]
  }
 ],
 "metadata": {
  "kernelspec": {
   "display_name": "Python 3",
   "language": "python",
   "name": "python3"
  },
  "language_info": {
   "codemirror_mode": {
    "name": "ipython",
    "version": 3
   },
   "file_extension": ".py",
   "mimetype": "text/x-python",
   "name": "python",
   "nbconvert_exporter": "python",
   "pygments_lexer": "ipython3",
   "version": "3.8.3"
  }
 },
 "nbformat": 4,
 "nbformat_minor": 4
}
