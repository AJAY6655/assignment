{
 "cells": [
  {
   "cell_type": "markdown",
   "metadata": {},
   "source": [
    "# How to get unique items"
   ]
  },
  {
   "cell_type": "code",
   "execution_count": null,
   "metadata": {},
   "outputs": [],
   "source": [
    "# Python program  \n",
    "# to get unique values from list \n",
    "# using traversal  \n",
    "  \n",
    "# function to get unique values \n",
    "def unique(list1): \n",
    "  \n",
    "    \n",
    "    unique_list = [] \n",
    "      \n",
    "     \n",
    "    for x in list1: \n",
    "       \n",
    "        if x not in unique_list: \n",
    "            unique_list.append(x) \n",
    "    for x in unique_list: \n",
    "        print (x) \n",
    "      \n"
   ]
  },
  {
   "cell_type": "code",
   "execution_count": 7,
   "metadata": {},
   "outputs": [
    {
     "name": "stdout",
     "output_type": "stream",
     "text": [
      "the unique values from 1st list is\n",
      "10\n",
      "20\n",
      "30\n",
      "40\n",
      "\n",
      "the unique values from 2nd list is\n",
      "1\n",
      "2\n",
      "3\n",
      "4\n",
      "5\n"
     ]
    }
   ],
   "source": [
    "\n",
    "list1 = [10, 20, 10, 30, 40, 40] \n",
    "print(\"the unique values from 1st list is\") \n",
    "unique(list1) \n",
    "  \n",
    "  \n",
    "list2 =[1, 2, 1, 1, 3, 4, 3, 3, 5] \n",
    "print(\"\\nthe unique values from 2nd list is\") \n",
    "unique(list2)"
   ]
  },
  {
   "cell_type": "markdown",
   "metadata": {},
   "source": [
    "# counts of unique items"
   ]
  },
  {
   "cell_type": "code",
   "execution_count": 15,
   "metadata": {},
   "outputs": [],
   "source": [
    " \n",
    "input_list = [1, 2, 2, 5, 8, 4, 4, 8]   \n",
    "l1 = []    \n",
    "count = 0\n",
    "for item in input_list: \n",
    "    if item not in l1: \n",
    "        count += 1\n",
    "        l1.append(item) "
   ]
  },
  {
   "cell_type": "code",
   "execution_count": 14,
   "metadata": {},
   "outputs": [
    {
     "name": "stdout",
     "output_type": "stream",
     "text": [
      "No of unique items are: 5\n"
     ]
    }
   ],
   "source": [
    "print(\"No of unique items are:\", count) "
   ]
  },
  {
   "cell_type": "code",
   "execution_count": null,
   "metadata": {},
   "outputs": [],
   "source": []
  }
 ],
 "metadata": {
  "kernelspec": {
   "display_name": "Python 3",
   "language": "python",
   "name": "python3"
  },
  "language_info": {
   "codemirror_mode": {
    "name": "ipython",
    "version": 3
   },
   "file_extension": ".py",
   "mimetype": "text/x-python",
   "name": "python",
   "nbconvert_exporter": "python",
   "pygments_lexer": "ipython3",
   "version": "3.8.3"
  }
 },
 "nbformat": 4,
 "nbformat_minor": 4
}
