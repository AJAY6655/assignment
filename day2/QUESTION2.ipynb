{
 "cells": [
  {
   "cell_type": "markdown",
   "metadata": {},
   "source": [
    "# A Quick Introduction to List Comprehensions with Python\n",
    "\n",
    "This notebook runs through some quick examples of how to do list comprehensions in Python.\n",
    "\n",
    "List comprehensions are one of the most powerful tools in a Pythonista's toolbelt. T"
   ]
  },
  {
   "cell_type": "markdown",
   "metadata": {},
   "source": [
    "\n",
    "Why would you use a list comprehension?\n",
    "\n",
    "To get the same thing done in less lines of code.\n"
   ]
  },
  {
   "cell_type": "raw",
   "metadata": {},
   "source": [
    "\n",
    "The shopping cart example\n",
    "\n",
    "Let's say you're shopping at a math store and you have in your cart a bunch of differnt numbers.\n"
   ]
  },
  {
   "cell_type": "code",
   "execution_count": 2,
   "metadata": {},
   "outputs": [],
   "source": [
    "# shopping cart full of numbers (a Python list of numbers)\n",
    "cart = [5, 7, 9, 10, 12, 15, 19, 20, 22]\n"
   ]
  },
  {
   "cell_type": "markdown",
   "metadata": {},
   "source": [
    "You realise you've done enough shopping and decide to go to the cashier and start passing them the items one by one."
   ]
  },
  {
   "cell_type": "code",
   "execution_count": 3,
   "metadata": {},
   "outputs": [
    {
     "name": "stdout",
     "output_type": "stream",
     "text": [
      "[5, 7, 9, 10, 12, 15, 19, 20, 22]\n"
     ]
    }
   ],
   "source": [
    "cashier = [] # the cashier starts with zero items\n",
    "for item in cart: # go over each item one by one\n",
    "    cashier.append(item) # hand the cashier each item\n",
    "print(cashier) # check which items the cashier has"
   ]
  },
  {
   "cell_type": "code",
   "execution_count": 4,
   "metadata": {},
   "outputs": [
    {
     "data": {
      "text/plain": [
       "[5, 7, 9, 10, 12, 15, 19, 20, 22]"
      ]
     },
     "execution_count": 4,
     "metadata": {},
     "output_type": "execute_result"
    }
   ],
   "source": [
    "cart\n"
   ]
  },
  {
   "cell_type": "markdown",
   "metadata": {},
   "source": [
    "Now how could you make this shorter? Could you do it in one line of code instead of three?\n",
    "\n",
    "This is where list comprehensions come into play.\n",
    "\n",
    "Let's check using a differnt cashier to make sure"
   ]
  },
  {
   "cell_type": "code",
   "execution_count": 5,
   "metadata": {},
   "outputs": [],
   "source": [
    "cashier_2 = [item for item in cart]"
   ]
  },
  {
   "cell_type": "markdown",
   "metadata": {},
   "source": [
    "\n",
    "Surely this can't be the same as the lines above?\n",
    "\n",
    "Let's check.\n"
   ]
  },
  {
   "cell_type": "code",
   "execution_count": 6,
   "metadata": {},
   "outputs": [
    {
     "name": "stdout",
     "output_type": "stream",
     "text": [
      "[5, 7, 9, 10, 12, 15, 19, 20, 22]\n",
      "[5, 7, 9, 10, 12, 15, 19, 20, 22]\n"
     ]
    }
   ],
   "source": [
    "print(cashier)\n",
    "print(cashier_2)"
   ]
  },
  {
   "cell_type": "markdown",
   "metadata": {},
   "source": [
    "They're the exact same!"
   ]
  },
  {
   "cell_type": "markdown",
   "metadata": {},
   "source": [
    "cashier is  created on its own line. The second one ,it's created at the same time everything else is being created.\n",
    "cart is being iterated over, item is created as the for loop runs.this is the same as grabbing one item at a time out of your shopping cart and passing it to the cashier.\n",
    "cashier is updated with each item.The only difference is the first one an append statement is required. The list comprehension o negates the need for an append statement."
   ]
  },
  {
   "cell_type": "code",
   "execution_count": null,
   "metadata": {},
   "outputs": [],
   "source": []
  }
 ],
 "metadata": {
  "kernelspec": {
   "display_name": "Python 3",
   "language": "python",
   "name": "python3"
  },
  "language_info": {
   "codemirror_mode": {
    "name": "ipython",
    "version": 3
   },
   "file_extension": ".py",
   "mimetype": "text/x-python",
   "name": "python",
   "nbconvert_exporter": "python",
   "pygments_lexer": "ipython3",
   "version": "3.8.3"
  }
 },
 "nbformat": 4,
 "nbformat_minor": 4
}
